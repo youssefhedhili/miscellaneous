{
  "nbformat": 4,
  "nbformat_minor": 0,
  "metadata": {
    "colab": {
      "name": "2 - Data Science.ipynb",
      "version": "0.3.2",
      "provenance": []
    },
    "kernelspec": {
      "name": "python3",
      "display_name": "Python 3"
    },
    "accelerator": "GPU"
  },
  "cells": [
    {
      "metadata": {
        "id": "PWUV617zIT4_",
        "colab_type": "text"
      },
      "cell_type": "markdown",
      "source": [
        "Mounting Google Drive in colab"
      ]
    },
    {
      "metadata": {
        "id": "C_Jo400Qv-3J",
        "colab_type": "code",
        "colab": {}
      },
      "cell_type": "code",
      "source": [
        "from google.colab import drive\n",
        "drive.mount('/content/drive/')"
      ],
      "execution_count": 0,
      "outputs": []
    },
    {
      "metadata": {
        "id": "gZxTS3xaxJOz",
        "colab_type": "code",
        "colab": {}
      },
      "cell_type": "code",
      "source": [
        "#Accessing our Drive Folder - Python \n",
        "cd drive/Team Drives/DE AI Team Drive/3. PEOPLE AND COMPETENCE/Technische Expertise/Python/Python Workshop"
      ],
      "execution_count": 0,
      "outputs": []
    },
    {
      "metadata": {
        "id": "vMifIqzPZu9Y",
        "colab_type": "text"
      },
      "cell_type": "markdown",
      "source": [
        "# Understand the basic Pandas data structures"
      ]
    },
    {
      "metadata": {
        "id": "LAksUTkOZolt",
        "colab_type": "text"
      },
      "cell_type": "markdown",
      "source": [
        "By convention, the pandas module is almost always imported this way as pd. Every time we use a pandas feature thereafter, we can shorten what we type by just typing pd, such as pd.some_function()."
      ]
    },
    {
      "metadata": {
        "id": "_CIkjX9mZrx-",
        "colab_type": "code",
        "colab": {}
      },
      "cell_type": "code",
      "source": [
        "import pandas as pd"
      ],
      "execution_count": 0,
      "outputs": []
    },
    {
      "metadata": {
        "id": "JpHNtPBSaJUB",
        "colab_type": "text"
      },
      "cell_type": "markdown",
      "source": [
        "### Series\n",
        "The series is a one-dimensional array-like structure designed to hold a single array (or ‘column’) of data and an associated array of data labels, called an index. We can create a series to experiment with by simply passing a list of data, let’s use numbers in this example:"
      ]
    },
    {
      "metadata": {
        "id": "90Ri7_-EaAzi",
        "colab_type": "code",
        "colab": {
          "base_uri": "https://localhost:8080/",
          "height": 102
        },
        "outputId": "063f8206-76c9-4294-da3e-f6397d24f447"
      },
      "cell_type": "code",
      "source": [
        "my_series = pd.Series([4.6, 2.1, -4.0, 3.0])\n",
        "print(my_series)"
      ],
      "execution_count": 2,
      "outputs": [
        {
          "output_type": "stream",
          "text": [
            "0    4.6\n",
            "1    2.1\n",
            "2   -4.0\n",
            "3    3.0\n",
            "dtype: float64\n"
          ],
          "name": "stdout"
        }
      ]
    },
    {
      "metadata": {
        "id": "SkLeasxkaPLu",
        "colab_type": "text"
      },
      "cell_type": "markdown",
      "source": [
        "Note that printing out our Series object prints out the values and the index numbers. If we just wanted the values, we can add to our script the following line:"
      ]
    },
    {
      "metadata": {
        "id": "Hco0Yi9waQq2",
        "colab_type": "code",
        "colab": {
          "base_uri": "https://localhost:8080/",
          "height": 34
        },
        "outputId": "dc361a1e-04ab-4173-af2b-fa504fd29f3a"
      },
      "cell_type": "code",
      "source": [
        "print(my_series.values)"
      ],
      "execution_count": 3,
      "outputs": [
        {
          "output_type": "stream",
          "text": [
            "[ 4.6  2.1 -4.   3. ]\n"
          ],
          "name": "stdout"
        }
      ]
    },
    {
      "metadata": {
        "id": "esN7ljP3aYYS",
        "colab_type": "text"
      },
      "cell_type": "markdown",
      "source": [
        "For a lot of applications, a plain old Series is probably not a lot of use, but it is the core component of the Pandas workhorse, the DataFrame, so it’s useful to know about.For a lot of applications, a plain old Series is probably not a lot of use, but it is the core component of the Pandas workhorse, the DataFrame, so it’s useful to know about."
      ]
    },
    {
      "metadata": {
        "id": "jql5EHlkacwp",
        "colab_type": "text"
      },
      "cell_type": "markdown",
      "source": [
        "### DataFrames\n",
        "The DataFrame represents tabular data, a bit like a spreadsheet. DataFrames are organised into colums (each of which is a Series), and each column can store a single data-type, such as floating point numbers, strings, boolean values etc. DataFrames can be indexed by either their row or column names. (They are similar in many ways to R’s data.frame.)\n",
        "\n",
        "We can create a DataFrame in Pandas from a Python dictionary, or by loading in a text file containing tabular data. First we are going to look at how to create one from a dictionary.\n",
        "\n",
        "A refresher on the Dictionary data type\n",
        "Dictionaries are a core Python data structure that contain a set of key:value pairs. If you imagine having a written language dictionary, say for English-Hungarian, and you wanted to know the Hungarian word for “spaceship”, you would look-up the English word (the dictionary key in Python) and the dictionary would give you the Hungarian translation (the dictionary value in Python). So the “key-value pair” would be 'spaceship': 'űrhajó'.\n",
        "\n",
        "To construct a dictionary in Python, the syntax we would write is"
      ]
    },
    {
      "metadata": {
        "id": "Nvnl5wVAajmW",
        "colab_type": "code",
        "colab": {}
      },
      "cell_type": "code",
      "source": [
        "# Note that dictionaries are part of the core Python language\n",
        "# You do not need 'import pandas' if you are only working with dictionaries.\n",
        "\n",
        "hungarian_dictionary = {'spaceship': 'űrhajó'}"
      ],
      "execution_count": 0,
      "outputs": []
    },
    {
      "metadata": {
        "id": "Q-2Iag7AamYH",
        "colab_type": "text"
      },
      "cell_type": "markdown",
      "source": [
        "We could then look-up items in our dictionary with this syntax:"
      ]
    },
    {
      "metadata": {
        "id": "yt0rG9dMarID",
        "colab_type": "code",
        "colab": {
          "base_uri": "https://localhost:8080/",
          "height": 34
        },
        "outputId": "7805916b-bd05-4e0a-9651-0f7f95b213eb"
      },
      "cell_type": "code",
      "source": [
        "hungarian_dictionary['spaceship']"
      ],
      "execution_count": 5,
      "outputs": [
        {
          "output_type": "execute_result",
          "data": {
            "text/plain": [
              "'űrhajó'"
            ]
          },
          "metadata": {
            "tags": []
          },
          "execution_count": 5
        }
      ]
    },
    {
      "metadata": {
        "id": "Pq8UJop9as7g",
        "colab_type": "text"
      },
      "cell_type": "markdown",
      "source": [
        "Dictionaries can have multiple entries (multiple key-value pairs), and these are separated with a comma:"
      ]
    },
    {
      "metadata": {
        "id": "iIzeFE0raXnm",
        "colab_type": "code",
        "colab": {}
      },
      "cell_type": "code",
      "source": [
        "hungarian_dictionary = {'spaceship': 'űrhajó',\n",
        "                        'watermelon': 'görögdinnye',\n",
        "                        'bicycle': 'kerékpár'}"
      ],
      "execution_count": 0,
      "outputs": []
    },
    {
      "metadata": {
        "id": "GN6evIqWa0Kb",
        "colab_type": "text"
      },
      "cell_type": "markdown",
      "source": [
        "The values in dictionaries are not limited to single strings or words. Values can be any Python object such as numbers, lists, tuples, or even other dictionaries:"
      ]
    },
    {
      "metadata": {
        "id": "GPS9dHz6a1kd",
        "colab_type": "code",
        "colab": {}
      },
      "cell_type": "code",
      "source": [
        "# Names (keys) mapped to a tuple (the value) containing the height, lat and longitude.\n",
        "scottish_hills = {'Ben Nevis': (1345, 56.79685, -5.003508),\n",
        "                  'Ben Macdui': (1309, 57.070453, -3.668262),\n",
        "                  'Braeriach': (1296, 57.078628, -3.728024),\n",
        "                  'Cairn Toul': (1291, 57.054611, -3.71042),\n",
        "                  'Sgòr an Lochain Uaine': (1258, 57.057999, -3.725416)}"
      ],
      "execution_count": 0,
      "outputs": []
    },
    {
      "metadata": {
        "id": "eayZNXsHa3dF",
        "colab_type": "text"
      },
      "cell_type": "markdown",
      "source": [
        "Looking up a Scottish mountain using its name as the key would then give us the height, latitude and longitude as the value returned."
      ]
    },
    {
      "metadata": {
        "id": "E_l6vsCla4qJ",
        "colab_type": "code",
        "colab": {
          "base_uri": "https://localhost:8080/",
          "height": 34
        },
        "outputId": "8f17fd59-cc16-4a43-bb4a-55986fa18fd7"
      },
      "cell_type": "code",
      "source": [
        "scottish_hills['Braeriach']"
      ],
      "execution_count": 8,
      "outputs": [
        {
          "output_type": "execute_result",
          "data": {
            "text/plain": [
              "(1296, 57.078628, -3.728024)"
            ]
          },
          "metadata": {
            "tags": []
          },
          "execution_count": 8
        }
      ]
    },
    {
      "metadata": {
        "id": "XLfoHo9NbCEd",
        "colab_type": "text"
      },
      "cell_type": "markdown",
      "source": [
        "Enclosed in a print function  this would print out:"
      ]
    },
    {
      "metadata": {
        "id": "vrZzvzoAbHfY",
        "colab_type": "code",
        "colab": {
          "base_uri": "https://localhost:8080/",
          "height": 34
        },
        "outputId": "8a6f31ff-6139-4a5b-f362-e2984bc5c733"
      },
      "cell_type": "code",
      "source": [
        "print(scottish_hills['Braeriach'])"
      ],
      "execution_count": 10,
      "outputs": [
        {
          "output_type": "stream",
          "text": [
            "(1296, 57.078628, -3.728024)\n"
          ],
          "name": "stdout"
        }
      ]
    },
    {
      "metadata": {
        "id": "CuD_iHiUbI1P",
        "colab_type": "text"
      },
      "cell_type": "markdown",
      "source": [
        "### Back to DataFrames…"
      ]
    },
    {
      "metadata": {
        "id": "m70LgfidbOI2",
        "colab_type": "text"
      },
      "cell_type": "markdown",
      "source": [
        "If we didn’t have any real data to play with from an external file, we could manually create a DataFrame from a Python dictionary. Using the scottish_hills dictionary above, we can load it into a Pandas DataFrame with this syntax:"
      ]
    },
    {
      "metadata": {
        "id": "D3XyQwRRbPux",
        "colab_type": "code",
        "colab": {}
      },
      "cell_type": "code",
      "source": [
        "dataframe = pd.DataFrame(scottish_hills)"
      ],
      "execution_count": 0,
      "outputs": []
    },
    {
      "metadata": {
        "id": "KBaApCrYbSx5",
        "colab_type": "text"
      },
      "cell_type": "markdown",
      "source": [
        "Try creating a Python script that converts a Python dictionary into a Pandas DataFrame, then print the DataFrame to screen. You can use the scottish_hills example or experiment with your own."
      ]
    },
    {
      "metadata": {
        "id": "M38MAEXLbUKS",
        "colab_type": "code",
        "colab": {
          "base_uri": "https://localhost:8080/",
          "height": 85
        },
        "outputId": "09b25969-9685-4fb7-bd3e-439f4b5017e2"
      },
      "cell_type": "code",
      "source": [
        "import pandas as pd\n",
        "\n",
        "scottish_hills = {'Ben Nevis': (1345, 56.79685, -5.003508),\n",
        "                  'Ben Macdui': (1309, 57.070453, -3.668262),\n",
        "                  'Braeriach': (1296, 57.078628, -3.728024),\n",
        "                  'Cairn Toul': (1291, 57.054611, -3.71042),\n",
        "                  'Sgòr an Lochain Uaine': (1258, 57.057999, -3.725416)}\n",
        "\n",
        "dataframe = pd.DataFrame(scottish_hills)\n",
        "print(dataframe)"
      ],
      "execution_count": 12,
      "outputs": [
        {
          "output_type": "stream",
          "text": [
            "    Ben Macdui    Ben Nevis    Braeriach   Cairn Toul  Sgòr an Lochain Uaine\n",
            "0  1309.000000  1345.000000  1296.000000  1291.000000            1258.000000\n",
            "1    57.070453    56.796850    57.078628    57.054611              57.057999\n",
            "2    -3.668262    -5.003508    -3.728024    -3.710420              -3.725416\n"
          ],
          "name": "stdout"
        }
      ]
    },
    {
      "metadata": {
        "id": "WGAqJWK5bhTI",
        "colab_type": "text"
      },
      "cell_type": "markdown",
      "source": [
        "Now, this is not necessarily the most logical order to store data. It would probably make more sense for the columns to be categories or types of data, rather than the names of each hill. You may remember from previous workshops that the data is currently in wide format, but we want it in long format. To do this, we need to think about how to structure our dictionary. Pandas works best with dictionaries when the dictionary keys refer to column names or headers. Here’s a better dictionary to use:"
      ]
    },
    {
      "metadata": {
        "id": "i--xdAWEbknG",
        "colab_type": "code",
        "colab": {}
      },
      "cell_type": "code",
      "source": [
        "scottish_hills = {'Hill Name': ['Ben Nevis', 'Ben Macdui', 'Braeriach', 'Cairn Toul', 'Sgòr an Lochain Uaine'],\n",
        "                  'Height': [1345, 1309, 1296, 1291, 1258],\n",
        "                  'Latitude': [56.79685, 57.070453, 57.078628, 57.054611, 57.057999],\n",
        "                  'Longitude': [-5.003508, -3.668262, -3.728024, -3.71042, -3.725416]}"
      ],
      "execution_count": 0,
      "outputs": []
    },
    {
      "metadata": {
        "id": "YEkQDxrjbmYx",
        "colab_type": "text"
      },
      "cell_type": "markdown",
      "source": [
        "We’ve made the dictionary keys into category-like names, and then these are followed by a list of corresponding data values. Pandas will be able to read this better. Replace the dictionary in your script above and run it again. Now you should get the following output:"
      ]
    },
    {
      "metadata": {
        "id": "_2fUsNjdbnm6",
        "colab_type": "code",
        "colab": {
          "base_uri": "https://localhost:8080/",
          "height": 119
        },
        "outputId": "f504d6a4-667f-4966-d4a7-7ddff1d64b21"
      },
      "cell_type": "code",
      "source": [
        "dataframe = pd.DataFrame(scottish_hills, columns=['Hill Name', 'Height', 'Latitude', 'Longitude'])\n",
        "print(dataframe)"
      ],
      "execution_count": 14,
      "outputs": [
        {
          "output_type": "stream",
          "text": [
            "               Hill Name  Height   Latitude  Longitude\n",
            "0              Ben Nevis    1345  56.796850  -5.003508\n",
            "1             Ben Macdui    1309  57.070453  -3.668262\n",
            "2              Braeriach    1296  57.078628  -3.728024\n",
            "3             Cairn Toul    1291  57.054611  -3.710420\n",
            "4  Sgòr an Lochain Uaine    1258  57.057999  -3.725416\n"
          ],
          "name": "stdout"
        }
      ]
    },
    {
      "metadata": {
        "id": "cJH9sGUpcTlk",
        "colab_type": "text"
      },
      "cell_type": "markdown",
      "source": [
        "### how to access data from a Pandas DataFrame\n",
        "Pandas DataFrames have many useful methods that can be used to inspect the data and manipulate it. We are going to have a look at just a few of them.\n",
        "\n",
        "If our DataFrame was huge, we would not want to print all of it to screen, instead we could have a look at the first n items with the head method, which takes the number of rows you want to view as its argument."
      ]
    },
    {
      "metadata": {
        "id": "_zL8lvuVccbI",
        "colab_type": "code",
        "colab": {
          "base_uri": "https://localhost:8080/",
          "height": 85
        },
        "outputId": "59def780-4d0d-49f5-807f-d64d02dc285c"
      },
      "cell_type": "code",
      "source": [
        "print(dataframe.head(3))"
      ],
      "execution_count": 15,
      "outputs": [
        {
          "output_type": "stream",
          "text": [
            "    Hill Name  Height   Latitude  Longitude\n",
            "0   Ben Nevis    1345  56.796850  -5.003508\n",
            "1  Ben Macdui    1309  57.070453  -3.668262\n",
            "2   Braeriach    1296  57.078628  -3.728024\n"
          ],
          "name": "stdout"
        }
      ]
    },
    {
      "metadata": {
        "id": "EBN4rJi8cgPr",
        "colab_type": "text"
      },
      "cell_type": "markdown",
      "source": [
        "We could also look at the last n rows with the tail method:"
      ]
    },
    {
      "metadata": {
        "id": "YHhR0pBxcg2i",
        "colab_type": "code",
        "colab": {}
      },
      "cell_type": "code",
      "source": [
        "print(dataframe.tail(2))"
      ],
      "execution_count": 0,
      "outputs": []
    },
    {
      "metadata": {
        "id": "-Bb2Z6WOcjmE",
        "colab_type": "text"
      },
      "cell_type": "markdown",
      "source": [
        "Our columns in the dataframe object are individual Series of data. We can access them by referring to the column name e.g. dataframe['column-name']. Have a go at adding these extra statements to your script, and check that you get the same output:"
      ]
    },
    {
      "metadata": {
        "id": "0WrRws0icnCQ",
        "colab_type": "code",
        "colab": {}
      },
      "cell_type": "code",
      "source": [
        "print(dataframe['Hill Name'])"
      ],
      "execution_count": 0,
      "outputs": []
    },
    {
      "metadata": {
        "id": "6JpXUmxTcqmA",
        "colab_type": "code",
        "colab": {
          "base_uri": "https://localhost:8080/",
          "height": 119
        },
        "outputId": "3a3b8629-38ff-4619-eea9-808d388795e9"
      },
      "cell_type": "code",
      "source": [
        "print(dataframe['Height'])"
      ],
      "execution_count": 16,
      "outputs": [
        {
          "output_type": "stream",
          "text": [
            "0    1345\n",
            "1    1309\n",
            "2    1296\n",
            "3    1291\n",
            "4    1258\n",
            "Name: Height, dtype: int64\n"
          ],
          "name": "stdout"
        }
      ]
    },
    {
      "metadata": {
        "id": "rR5eGngecyib",
        "colab_type": "text"
      },
      "cell_type": "markdown",
      "source": [
        "Note that Pandas DataFrames are accessed primarily by columns. In a sense the row is less important to a DataFrame. For example, what do you think would happen using the following code?"
      ]
    },
    {
      "metadata": {
        "id": "wMb4cFdqcy_0",
        "colab_type": "code",
        "colab": {}
      },
      "cell_type": "code",
      "source": [
        "#dataframe[0]"
      ],
      "execution_count": 0,
      "outputs": []
    },
    {
      "metadata": {
        "id": "TuCE9Dwwc7x5",
        "colab_type": "text"
      },
      "cell_type": "markdown",
      "source": [
        "Ouch! That’s a lot of error messages… The columns cannot be accessed by their index number in this way, you must use the column name. You may have thought that this might return the row index instead, but we have to use a different method to get the row:"
      ]
    },
    {
      "metadata": {
        "id": "upFkAH1kc7Wx",
        "colab_type": "code",
        "colab": {
          "base_uri": "https://localhost:8080/",
          "height": 102
        },
        "outputId": "f5808591-d52c-4013-cf3d-4cc594ce8aca"
      },
      "cell_type": "code",
      "source": [
        "dataframe.iloc[0]"
      ],
      "execution_count": 18,
      "outputs": [
        {
          "output_type": "execute_result",
          "data": {
            "text/plain": [
              "Hill Name    Ben Nevis\n",
              "Height            1345\n",
              "Latitude       56.7968\n",
              "Longitude     -5.00351\n",
              "Name: 0, dtype: object"
            ]
          },
          "metadata": {
            "tags": []
          },
          "execution_count": 18
        }
      ]
    },
    {
      "metadata": {
        "id": "Bjq3-i6VdIkG",
        "colab_type": "text"
      },
      "cell_type": "markdown",
      "source": [
        "The iloc method gives us access to the DataFrame in more traditional ‘matrix’ style notation, i.e. [row, column] notation. So if we wanted to get the height of Ben Nevis specifically, we could do:"
      ]
    },
    {
      "metadata": {
        "id": "jrcb1hrec_mr",
        "colab_type": "code",
        "colab": {
          "base_uri": "https://localhost:8080/",
          "height": 34
        },
        "outputId": "3dbfd74f-79a4-43c2-9a86-4396d6ad1d9a"
      },
      "cell_type": "code",
      "source": [
        "dataframe.iloc[0,0]"
      ],
      "execution_count": 19,
      "outputs": [
        {
          "output_type": "execute_result",
          "data": {
            "text/plain": [
              "'Ben Nevis'"
            ]
          },
          "metadata": {
            "tags": []
          },
          "execution_count": 19
        }
      ]
    },
    {
      "metadata": {
        "id": "h5xrUwmedP8z",
        "colab_type": "text"
      },
      "cell_type": "markdown",
      "source": [
        "A way to remeber this is that iloc is short for “integer location”. But a more Pandas-style approach would be to do:"
      ]
    },
    {
      "metadata": {
        "id": "Z8KiF59wdQTk",
        "colab_type": "code",
        "colab": {}
      },
      "cell_type": "code",
      "source": [
        "dataframe['Hill Name'][0]"
      ],
      "execution_count": 0,
      "outputs": []
    },
    {
      "metadata": {
        "id": "9zoobZt9dUKl",
        "colab_type": "text"
      },
      "cell_type": "markdown",
      "source": [
        "An even quicker way to access our columns (less typing) is to treat the names as if they were attributes of our DataFrame, like this:"
      ]
    },
    {
      "metadata": {
        "id": "labhuIrFdVHG",
        "colab_type": "code",
        "colab": {
          "base_uri": "https://localhost:8080/",
          "height": 119
        },
        "outputId": "3a7796f0-1407-4bbd-e59c-5b6c79c99841"
      },
      "cell_type": "code",
      "source": [
        "dataframe.Height"
      ],
      "execution_count": 20,
      "outputs": [
        {
          "output_type": "execute_result",
          "data": {
            "text/plain": [
              "0    1345\n",
              "1    1309\n",
              "2    1296\n",
              "3    1291\n",
              "4    1258\n",
              "Name: Height, dtype: int64"
            ]
          },
          "metadata": {
            "tags": []
          },
          "execution_count": 20
        }
      ]
    },
    {
      "metadata": {
        "id": "QFNZlkmvdYTG",
        "colab_type": "text"
      },
      "cell_type": "markdown",
      "source": [
        "###Learn how to filter data in a Pandas DataFrame\n"
      ]
    },
    {
      "metadata": {
        "id": "BYEP5LZMde3c",
        "colab_type": "text"
      },
      "cell_type": "markdown",
      "source": [
        "We can also apply conditions to the data we are inspecting, such as to filter our data.\n",
        "\n"
      ]
    },
    {
      "metadata": {
        "id": "9z4--NV7dVC4",
        "colab_type": "code",
        "colab": {}
      },
      "cell_type": "code",
      "source": [
        "dataframe.Height > 1300"
      ],
      "execution_count": 0,
      "outputs": []
    },
    {
      "metadata": {
        "id": "MRwzdCPRdkFV",
        "colab_type": "text"
      },
      "cell_type": "markdown",
      "source": [
        "This returns a new Series of True/False values though. To actually filter the data, we need to use this Series to mask our original DataFrame:"
      ]
    },
    {
      "metadata": {
        "id": "Xkmfq9jydUgv",
        "colab_type": "code",
        "colab": {}
      },
      "cell_type": "code",
      "source": [
        "dataframe[dataframe.Height > 1300]"
      ],
      "execution_count": 0,
      "outputs": []
    },
    {
      "metadata": {
        "id": "M0CYAuS0dnYK",
        "colab_type": "text"
      },
      "cell_type": "markdown",
      "source": [
        "### Learn how to append data to an existing DataFrame\n"
      ]
    },
    {
      "metadata": {
        "id": "LFbbFV5PdqWS",
        "colab_type": "text"
      },
      "cell_type": "markdown",
      "source": [
        "We can also append data to the DataFrame. This is done using the following syntax:"
      ]
    },
    {
      "metadata": {
        "id": "1M9glP0Cdr8h",
        "colab_type": "code",
        "colab": {}
      },
      "cell_type": "code",
      "source": [
        "dataframe['Region'] = ['Grampian', 'Cairngorm', 'Cairngorm', 'Cairngorm', 'Cairngorm']"
      ],
      "execution_count": 0,
      "outputs": []
    },
    {
      "metadata": {
        "id": "6fcl0t89dvUe",
        "colab_type": "text"
      },
      "cell_type": "markdown",
      "source": [
        "Using the original script, try adding this line to the end of the script to append the Regions data and then printing the DataFrame again. If you are following the tutorial by building up a script as you go along, it should now look like this:"
      ]
    },
    {
      "metadata": {
        "id": "z8aJLuUmdv07",
        "colab_type": "code",
        "colab": {
          "base_uri": "https://localhost:8080/",
          "height": 119
        },
        "outputId": "7b4c4f6c-8521-42ba-c07f-ff0f1987f489"
      },
      "cell_type": "code",
      "source": [
        "import pandas as pd\n",
        "\n",
        "scottish_hills = {'Hill Name': ['Ben Nevis', 'Ben Macdui', 'Braeriach', 'Cairn Toul', 'Sgòr an Lochain Uaine'],\n",
        "                  'Height': [1345, 1309, 1296, 1291, 1258],\n",
        "                  'Latitude': [56.79685, 57.070453, 57.078628, 57.054611, 57.057999],\n",
        "                  'Longitude': [-5.003508, -3.668262, -3.728024, -3.71042, -3.725416]}\n",
        "\n",
        "dataframe = pd.DataFrame(scottish_hills, columns=['Hill Name', 'Height', 'Latitude', 'Longitude'])\n",
        "dataframe['Region'] = ['Grampian', 'Cairngorm', 'Cairngorm', 'Cairngorm', 'Cairngorm']\n",
        "print(dataframe)"
      ],
      "execution_count": 22,
      "outputs": [
        {
          "output_type": "stream",
          "text": [
            "               Hill Name  Height   Latitude  Longitude     Region\n",
            "0              Ben Nevis    1345  56.796850  -5.003508   Grampian\n",
            "1             Ben Macdui    1309  57.070453  -3.668262  Cairngorm\n",
            "2              Braeriach    1296  57.078628  -3.728024  Cairngorm\n",
            "3             Cairn Toul    1291  57.054611  -3.710420  Cairngorm\n",
            "4  Sgòr an Lochain Uaine    1258  57.057999  -3.725416  Cairngorm\n"
          ],
          "name": "stdout"
        }
      ]
    },
    {
      "metadata": {
        "id": "Bwl3DYcudzFp",
        "colab_type": "text"
      },
      "cell_type": "markdown",
      "source": [
        "### Learn how to read data from a file using Pandas"
      ]
    },
    {
      "metadata": {
        "id": "mBy6hAJjd4Bn",
        "colab_type": "text"
      },
      "cell_type": "markdown",
      "source": [
        "So far we have only created data in Python itself, but Pandas has built in tools for reading data from a variety of external data formats, including Excel spreadsheets, raw text and .csv files. It can also interface with databases such as MySQL, but we are not going to cover databases in this tutorial.\n",
        "\n",
        "We’ve provided the scottish_hills.csv file The file contains all the mountains above 3000 feet (about 914 metres) in Scotland. We can load this easily into a DataFrame with the read_csv function."
      ]
    },
    {
      "metadata": {
        "id": "rO3Wn02Kd-KE",
        "colab_type": "text"
      },
      "cell_type": "markdown",
      "source": [
        "If you are writing a complete script to follow the tutorial, create a new file and enter:"
      ]
    },
    {
      "metadata": {
        "id": "JxtDxl3bd8NP",
        "colab_type": "code",
        "colab": {}
      },
      "cell_type": "code",
      "source": [
        "import pandas as pd\n",
        "\n",
        "dataframe = pd.read_csv(\"scottish_hills.csv\")\n",
        "print(dataframe.head(10))"
      ],
      "execution_count": 0,
      "outputs": []
    },
    {
      "metadata": {
        "id": "y1sgcqjAeClA",
        "colab_type": "text"
      },
      "cell_type": "markdown",
      "source": [
        "We’ve used the head() function to give us only the first 10 items in the DataFrame, and avoid printing all 282 hills out to screen…\n",
        "\n",
        "It looks like this table contains the hills in alphabetical order. It would be nice to see them in order of height. We can sort the DataFrame using the sort_values method. You can add the following lines to your script:"
      ]
    },
    {
      "metadata": {
        "id": "tGXjGeaFeDB-",
        "colab_type": "code",
        "colab": {
          "base_uri": "https://localhost:8080/",
          "height": 119
        },
        "outputId": "4f55ba46-cd6b-416d-e38e-a9861f6a7c51"
      },
      "cell_type": "code",
      "source": [
        "sorted_hills = dataframe.sort_values(by=['Height'], ascending=False)\n",
        "\n",
        "# Let's have a look at the top 5 to check\n",
        "print(sorted_hills.head(5))"
      ],
      "execution_count": 23,
      "outputs": [
        {
          "output_type": "stream",
          "text": [
            "               Hill Name  Height   Latitude  Longitude     Region\n",
            "0              Ben Nevis    1345  56.796850  -5.003508   Grampian\n",
            "1             Ben Macdui    1309  57.070453  -3.668262  Cairngorm\n",
            "2              Braeriach    1296  57.078628  -3.728024  Cairngorm\n",
            "3             Cairn Toul    1291  57.054611  -3.710420  Cairngorm\n",
            "4  Sgòr an Lochain Uaine    1258  57.057999  -3.725416  Cairngorm\n"
          ],
          "name": "stdout"
        }
      ]
    },
    {
      "metadata": {
        "id": "zpSspDv2fVn-",
        "colab_type": "text"
      },
      "cell_type": "markdown",
      "source": [
        "# Visualization with Matplotlib"
      ]
    },
    {
      "metadata": {
        "id": "TjrX1_S8rZYM",
        "colab_type": "text"
      },
      "cell_type": "markdown",
      "source": [
        "Like Pandas, Matplotlib has a few conventions that you will see in the examples, and in resources on other websites such as StackOverflow. Typically, if we are going to work on some plotting, we would import matplotlib like this:"
      ]
    },
    {
      "metadata": {
        "id": "acvF2JnIpgU_",
        "colab_type": "code",
        "colab": {}
      },
      "cell_type": "code",
      "source": [
        "import matplotlib.pyplot as plt"
      ],
      "execution_count": 0,
      "outputs": []
    },
    {
      "metadata": {
        "id": "9ga4ni5hrTPY",
        "colab_type": "text"
      },
      "cell_type": "markdown",
      "source": [
        "And thereafter, we could access the most commonly used features of Matplotlib with plt as shorthand. Note that this import statement is at the submodule level. We are not importing the full matplotlib module, but a subset of it called pyplot. Pyplot contains the most useful features of Matplotlib with an interface that makes interactive-style plotting easier. Submodule imports have the form import module.submodule and you will see them used in other Python libraries too sometimes."
      ]
    },
    {
      "metadata": {
        "id": "PJx7RVC7ytzh",
        "colab_type": "code",
        "colab": {
          "base_uri": "https://localhost:8080/",
          "height": 34
        },
        "outputId": "75d66b0d-250a-47f1-8012-f5c2b5e5abdb"
      },
      "cell_type": "code",
      "source": [
        "ls"
      ],
      "execution_count": 24,
      "outputs": [
        {
          "output_type": "stream",
          "text": [
            "\u001b[0m\u001b[01;34msample_data\u001b[0m/\n"
          ],
          "name": "stdout"
        }
      ]
    },
    {
      "metadata": {
        "id": "w53VvRPIrcuF",
        "colab_type": "code",
        "colab": {}
      },
      "cell_type": "code",
      "source": [
        "import pandas as pd\n",
        "import matplotlib.pyplot as plt\n",
        "\n",
        "dataframe = pd.read_csv(\"scottish_hills (1).csv\")"
      ],
      "execution_count": 0,
      "outputs": []
    },
    {
      "metadata": {
        "id": "SpC3Rt2oscg5",
        "colab_type": "text"
      },
      "cell_type": "markdown",
      "source": [
        "Let’s have a look at the relationship between two varibles in our Scottish hills data. Suppose I have a hypothesis that the height of Scottish hill increases with latitude northwards. Were going to plot height against latitude. To save typing later on, we can extract the Series for “Height” and “Latitude” by assigning each to a new variable, x and y, respectively."
      ]
    },
    {
      "metadata": {
        "id": "vpD-DwSwsc_q",
        "colab_type": "code",
        "colab": {}
      },
      "cell_type": "code",
      "source": [
        "x = dataframe.Height\n",
        "y = dataframe.Latitude"
      ],
      "execution_count": 0,
      "outputs": []
    },
    {
      "metadata": {
        "id": "SgEo0uf9shlq",
        "colab_type": "text"
      },
      "cell_type": "markdown",
      "source": [
        "(This saves us having to type dataframe.Height etc. every time)\n",
        "\n",
        "Then we can plot them as a scatter chart by adding:"
      ]
    },
    {
      "metadata": {
        "id": "pR5FZzPAsgV0",
        "colab_type": "code",
        "colab": {}
      },
      "cell_type": "code",
      "source": [
        "plt.scatter(x, y)"
      ],
      "execution_count": 0,
      "outputs": []
    },
    {
      "metadata": {
        "id": "dqxKLoT5sm7P",
        "colab_type": "text"
      },
      "cell_type": "markdown",
      "source": [
        "To make Python shLet’s plot a linear regression through the data. Python has a library called scipy that contains a lot of statistics routines. We can import it by adding to the top of our script:ow the chart, we need to either save the figure, or show it in Spyder. To do this from the script add:\n",
        "\n"
      ]
    },
    {
      "metadata": {
        "id": "NbMZ0JYvsnrr",
        "colab_type": "code",
        "colab": {}
      },
      "cell_type": "code",
      "source": [
        "from scipy.stats import linregress"
      ],
      "execution_count": 0,
      "outputs": []
    },
    {
      "metadata": {
        "id": "oWqS7wUaE5yI",
        "colab_type": "text"
      },
      "cell_type": "markdown",
      "source": [
        "Then at the bottom of our script, we are going to get statistics for the linear regression by using a function called linregress by adding the following line. Don’t worry, we will go through below how all of this works. These are the lines you need to add to the end of your script:\n"
      ]
    },
    {
      "metadata": {
        "id": "xp9sTyCZspUC",
        "colab_type": "code",
        "colab": {}
      },
      "cell_type": "code",
      "source": [
        "stats = linregress(x, y)\n",
        "\n",
        "m = stats.slope\n",
        "b = stats.intercept"
      ],
      "execution_count": 0,
      "outputs": []
    },
    {
      "metadata": {
        "id": "HzCDkEA2FEa0",
        "colab_type": "text"
      },
      "cell_type": "markdown",
      "source": [
        "Let’s pause and recap what we’ve done here before plotting the regression.\n",
        "\n",
        "1. We used an import statement with a slightly different format here: from module.submodule import function. This is a handy way of importing just a single function from a Python module. In this case we only want to use the linregress function in SciPy’s stats submodule, so we can just import it without anything else using that syntax.\n",
        "2. Next we are assigning the results of linregress to variable called stats.\n",
        "3. The linregress function is slightly different to the functions we’ve seen so far, because it returns an object with multiple values. In fact it returns the slope, intercept, rvalue, pvalue, and stderr (standard error). We can get hold of each of these values by using the dot notation: e.g. stats.slope, for example, much in the same way we can access our DataFrame attributes with dataframe.Height.\n",
        "4. For ease of typing later, we’ve assigned the stats.slope to a variable m, and stats.intercept to a variable b.\n",
        "The equation for the straight line that describes linear regression is y = mx + b, where m is the slope and b is the intercept.\n",
        "\n",
        "Therefore, we can then plot the line of linear regression by adding the following line:\n",
        "\n",
        "plt.plot(x, m * x + b)  # The equation of the straight line."
      ]
    },
    {
      "metadata": {
        "id": "9MT3GPM9FF3C",
        "colab_type": "code",
        "colab": {}
      },
      "cell_type": "code",
      "source": [
        "plt.scatter(x, y)\n",
        "plt.plot(x, m * x + b, color=\"red\")   # # The equation of the straight line."
      ],
      "execution_count": 0,
      "outputs": []
    },
    {
      "metadata": {
        "id": "JVJ4kqziFxnz",
        "colab_type": "text"
      },
      "cell_type": "markdown",
      "source": [
        "Customise Matplotlib plots further"
      ]
    },
    {
      "metadata": {
        "id": "fa45h9jRFwc0",
        "colab_type": "code",
        "colab": {}
      },
      "cell_type": "code",
      "source": [
        "import pandas as pd\n",
        "import matplotlib.pyplot as plt\n",
        "from scipy.stats import linregress\n",
        "\n",
        "dataframe = pd.read_csv(\"scottish_hills (1).csv\")\n",
        "\n",
        "x = dataframe.Height\n",
        "y = dataframe.Latitude\n",
        "\n",
        "stats = linregress(x, y)\n",
        "\n",
        "m = stats.slope\n",
        "b = stats.intercept\n",
        "\n",
        "# Change the default figure size\n",
        "plt.figure(figsize=(10,10))\n",
        "\n",
        "# Change the default marker for the scatter from circles to x's\n",
        "plt.scatter(x, y, marker='x')\n",
        "\n",
        "# Set the linewidth on the regression line to 3px\n",
        "plt.plot(x, m * x + b, color=\"red\", linewidth=3)\n",
        "\n",
        "# Add x and y lables, and set their font size\n",
        "plt.xlabel(\"Height (m)\", fontsize=20)\n",
        "plt.ylabel(\"Latitude\", fontsize=20)\n",
        "\n",
        "# Set the font size of the number lables on the axes\n",
        "plt.xticks(fontsize=18)\n",
        "plt.yticks(fontsize=18)"
      ],
      "execution_count": 0,
      "outputs": []
    },
    {
      "metadata": {
        "id": "ARit2n9mGdFY",
        "colab_type": "text"
      },
      "cell_type": "markdown",
      "source": [
        "**Task**\n",
        "\n",
        "1. Upload file 'olympics.csv'\n",
        "2. Show the table with .head()\n",
        "3. Plot the first 5 countries with their total combined medals with axis labes and fontsize 10."
      ]
    },
    {
      "metadata": {
        "id": "RoINp83sF1u1",
        "colab_type": "code",
        "colab": {}
      },
      "cell_type": "code",
      "source": [
        ""
      ],
      "execution_count": 0,
      "outputs": []
    }
  ]
}